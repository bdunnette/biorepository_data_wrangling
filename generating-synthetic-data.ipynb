{
 "cells": [
  {
   "cell_type": "markdown",
   "id": "fd02fe54",
   "metadata": {},
   "source": [
    "Before we start, we need some data to work with. Let's create a simple dataset using Python's `pandas` library and `faker` to generate random data."
   ]
  },
  {
   "cell_type": "code",
   "execution_count": 19,
   "id": "74b0300a",
   "metadata": {},
   "outputs": [],
   "source": [
    "import faker\n",
    "import pandas as pd\n",
    "import logging"
   ]
  },
  {
   "cell_type": "code",
   "execution_count": 20,
   "id": "fd778c6a",
   "metadata": {},
   "outputs": [
    {
     "name": "stdout",
     "output_type": "stream",
     "text": [
      "['C:\\\\Users\\\\dunn0172/nltk_data', 'c:\\\\Users\\\\dunn0172\\\\Documents\\\\GitHub\\\\biorepository_data_wrangling2\\\\.venv\\\\nltk_data', 'c:\\\\Users\\\\dunn0172\\\\Documents\\\\GitHub\\\\biorepository_data_wrangling2\\\\.venv\\\\share\\\\nltk_data', 'c:\\\\Users\\\\dunn0172\\\\Documents\\\\GitHub\\\\biorepository_data_wrangling2\\\\.venv\\\\lib\\\\nltk_data', 'C:\\\\Users\\\\dunn0172\\\\AppData\\\\Roaming\\\\nltk_data', 'C:\\\\nltk_data', 'D:\\\\nltk_data', 'E:\\\\nltk_data']\n"
     ]
    }
   ],
   "source": [
    "import nltk\n",
    "\n",
    "print(nltk.data.path)"
   ]
  },
  {
   "cell_type": "code",
   "execution_count": 21,
   "id": "0e202a71",
   "metadata": {},
   "outputs": [],
   "source": [
    "logger = logging.getLogger()\n",
    "logger.setLevel(logging.DEBUG)"
   ]
  },
  {
   "cell_type": "code",
   "execution_count": 22,
   "id": "5552f72c",
   "metadata": {},
   "outputs": [],
   "source": [
    "from faker_biospecimen.study import StudyProvider\n",
    "from faker_biospecimen.researcher import ResearcherProvider"
   ]
  },
  {
   "cell_type": "code",
   "execution_count": 23,
   "id": "de77af96",
   "metadata": {},
   "outputs": [],
   "source": [
    "fake = faker.Faker()\n",
    "fake.add_provider(StudyProvider)\n",
    "fake.add_provider(ResearcherProvider)"
   ]
  },
  {
   "cell_type": "code",
   "execution_count": 24,
   "id": "0c136a8e",
   "metadata": {},
   "outputs": [
    {
     "name": "stdout",
     "output_type": "stream",
     "text": [
      "Researcher(name=Donna Jones MD JD LPN, email=nelsonlisa@example.org)\n",
      "{'name': 'UNNETHE', 'description': 'The UNNETHE study aims to investigate the interaction between Malate dehydrogenase and Serine protease in the context of the oogonium. ', 'start_date': '1978-09-16', 'end_date': '1995-12-25', 'principal_investigator': 'Donna Jones MD JD LPN <nelsonlisa@example.org>'}\n"
     ]
    }
   ],
   "source": [
    "study = fake.study()\n",
    "print(study.principal_investigator)\n",
    "print(study.to_dict())"
   ]
  },
  {
   "cell_type": "code",
   "execution_count": 25,
   "id": "87c54e09",
   "metadata": {},
   "outputs": [],
   "source": [
    "def generate_synthetic_specimens(num_samples=100):\n",
    "    \"\"\"Generate synthetic specimen data.\"\"\"\n",
    "    data = {\n",
    "        \"specimen_id\": [fake.ean8() for _ in range(num_samples)],\n",
    "        \"collection_date\": [\n",
    "            fake.past_datetime(start_date=\"-5y\") for _ in range(num_samples)\n",
    "        ],\n",
    "        \"sample_type\": [\n",
    "            fake.random_element(elements=(\"plasma\", \"urine\", \"serum\"))\n",
    "            for _ in range(num_samples)\n",
    "        ],\n",
    "    }\n",
    "    return pd.DataFrame(data)"
   ]
  },
  {
   "cell_type": "code",
   "execution_count": 26,
   "id": "5648cbd1",
   "metadata": {},
   "outputs": [
    {
     "name": "stdout",
     "output_type": "stream",
     "text": [
      "  specimen_id     collection_date sample_type\n",
      "0    83431180 2022-09-29 16:45:18      plasma\n",
      "1    40935324 2024-02-10 16:38:40      plasma\n",
      "2    76294310 2023-10-05 07:22:05       urine\n",
      "3    93234238 2023-09-16 12:33:07       urine\n",
      "4    77442093 2021-01-28 20:18:00       urine\n"
     ]
    }
   ],
   "source": [
    "synthetic_data = generate_synthetic_specimens(1000)\n",
    "print(synthetic_data.head())"
   ]
  },
  {
   "cell_type": "code",
   "execution_count": 27,
   "id": "60b6faec",
   "metadata": {},
   "outputs": [
    {
     "data": {
      "image/png": "[encoded data removed]",
      "text/plain": [
       "<Figure size 1000x600 with 1 Axes>"
      ]
     },
     "metadata": {},
     "output_type": "display_data"
    }
   ],
   "source": [
    "# Plot the distribution of sample types, color-coded by sample type\n",
    "import matplotlib.pyplot as plt\n",
    "import seaborn as sns\n",
    "\n",
    "sns.set(style=\"whitegrid\")\n",
    "plt.figure(figsize=(10, 6))\n",
    "sns.countplot(\n",
    "    data=synthetic_data,\n",
    "    x=\"sample_type\",\n",
    "    legend=False,\n",
    "    hue=\"sample_type\",\n",
    "    palette={\"plasma\": \"purple\", \"urine\": \"yellow\", \"serum\": \"blue\"},\n",
    ")\n",
    "# Add specimen counts to the bars\n",
    "for p in plt.gca().patches:\n",
    "    plt.gca().annotate(\n",
    "        f\"{int(p.get_height())}\",\n",
    "        (p.get_x() + p.get_width() / 2.0, p.get_height()),\n",
    "        ha=\"center\",\n",
    "        va=\"bottom\",\n",
    "        fontsize=10,\n",
    "        color=\"black\",\n",
    "        xytext=(0, 5),\n",
    "        textcoords=\"offset points\",\n",
    "    )\n",
    "plt.title(\"Distribution of Sample Types\")\n",
    "plt.xlabel(\"Sample Type\")\n",
    "plt.ylabel(\"Count\")\n",
    "plt.xticks(rotation=45)\n",
    "plt.tight_layout()\n",
    "plt.show()"
   ]
  }
 ],
 "metadata": {
  "kernelspec": {
   "display_name": "biorepository_data_wrangling2",
   "language": "python",
   "name": "python3"
  },
  "language_info": {
   "codemirror_mode": {
    "name": "ipython",
    "version": 3
   },
   "file_extension": ".py",
   "mimetype": "text/x-python",
   "name": "python",
   "nbconvert_exporter": "python",
   "pygments_lexer": "ipython3",
   "version": "3.12.10"
  }
 },
 "nbformat": 4,
 "nbformat_minor": 5
}

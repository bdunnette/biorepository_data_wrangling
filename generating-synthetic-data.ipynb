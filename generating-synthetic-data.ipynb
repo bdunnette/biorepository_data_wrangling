{
 "cells": [
  {
   "cell_type": "markdown",
   "id": "fd02fe54",
   "metadata": {},
   "source": [
    "Before we start, we need some data to work with. Let's create a simple dataset using Python's `pandas` library and `faker` to generate random data."
   ]
  },
  {
   "cell_type": "code",
   "execution_count": 1,
   "id": "74b0300a",
   "metadata": {},
   "outputs": [],
   "source": [
    "import faker\n",
    "import pandas as pd\n",
    "import logging"
   ]
  },
  {
   "cell_type": "code",
   "execution_count": 2,
   "id": "fd778c6a",
   "metadata": {},
   "outputs": [
    {
     "name": "stdout",
     "output_type": "stream",
     "text": [
      "['C:\\\\Users\\\\dunn0172/nltk_data', 'c:\\\\Users\\\\dunn0172\\\\Documents\\\\GitHub\\\\biorepository_data_wrangling\\\\.venv\\\\nltk_data', 'c:\\\\Users\\\\dunn0172\\\\Documents\\\\GitHub\\\\biorepository_data_wrangling\\\\.venv\\\\share\\\\nltk_data', 'c:\\\\Users\\\\dunn0172\\\\Documents\\\\GitHub\\\\biorepository_data_wrangling\\\\.venv\\\\lib\\\\nltk_data', 'C:\\\\Users\\\\dunn0172\\\\AppData\\\\Roaming\\\\nltk_data', 'C:\\\\nltk_data', 'D:\\\\nltk_data', 'E:\\\\nltk_data']\n"
     ]
    }
   ],
   "source": [
    "import nltk\n",
    "\n",
    "print(nltk.data.path)"
   ]
  },
  {
   "cell_type": "code",
   "execution_count": 3,
   "id": "0e202a71",
   "metadata": {},
   "outputs": [],
   "source": [
    "logger = logging.getLogger()\n",
    "logger.setLevel(logging.DEBUG)"
   ]
  },
  {
   "cell_type": "code",
   "execution_count": 4,
   "id": "5552f72c",
   "metadata": {},
   "outputs": [],
   "source": [
    "from faker_biospecimen.study import (\n",
    "    StudyProvider,\n",
    "    StudySiteProvider,\n",
    "    StudyParticipantProvider,\n",
    ")\n",
    "from faker_biospecimen.specimen import SpecimenProvider"
   ]
  },
  {
   "cell_type": "code",
   "execution_count": 5,
   "id": "de77af96",
   "metadata": {},
   "outputs": [],
   "source": [
    "fake = faker.Faker(locale=\"en_US\")\n",
    "fake.add_provider(StudyProvider)\n",
    "fake.add_provider(StudySiteProvider)\n",
    "fake.add_provider(StudyParticipantProvider)\n",
    "fake.add_provider(SpecimenProvider)"
   ]
  },
  {
   "cell_type": "code",
   "execution_count": 6,
   "id": "0c136a8e",
   "metadata": {},
   "outputs": [
    {
     "name": "stdout",
     "output_type": "stream",
     "text": [
      "Study(name=ISOASPARAGINE, description=The ISOASPARAGINE study aims to investigate the interaction between E1 SAMP-activating enzyme and IgG3 in the context of the striated duct. , start_date=1977-03-31, end_date=1992-06-29, principal_investigator=Researcher(name=Kristin Kelly DDS PhD, email=hwilliams@example.org))\n",
      "StudySite(site_code=F, name=Perry, Castillo and Smith and Sons, location=59244 Pierce Throughway Suite 953\n",
      "East Whitneytown, MS 46433, contact=Researcher(name=Alicia Grant MEng MLS(ASCP), email=ashleycopeland@example.org))\n",
      "StudySite(site_code=W, name=Murillo-Morgan and Sons, location=84941 Blake Underpass\n",
      "South Raymondchester, IA 87382, contact=Researcher(name=Michele Brown MPH DVM JD, email=matthew09@example.com))\n",
      "StudySite(site_code=B, name=Pierce-Hurst Ltd, location=7640 Wu Cape\n",
      "Bellview, VA 11566, contact=Researcher(name=Hayley Gutierrez MBA PharmD, email=blarson@example.org))\n",
      "StudySite(site_code=L, name=White-Oliver Inc, location=914 Jones Streets\n",
      "Latoyaside, GU 91429, contact=Researcher(name=Lisa Fields JD DVM, email=imaynard@example.org))\n",
      "StudySite(site_code=J, name=Mcfarland, Russell and Nelson Ltd, location=77126 Nelson Extension Apt. 818\n",
      "Port Amanda, MO 81897, contact=Researcher(name=Charles Mccall RN NP, email=michael31@example.net))\n"
     ]
    }
   ],
   "source": [
    "study = fake.study(generate_sites=5)\n",
    "print(study)\n",
    "for site in study.sites:\n",
    "    print(site)"
   ]
  },
  {
   "cell_type": "code",
   "execution_count": null,
   "id": "054df7ff",
   "metadata": {},
   "outputs": [
    {
     "data": {
      "text/plain": [
       "[StudyParticipant(participant_id=173472, study=Study(name=ISOASPARAGINE, description=The ISOASPARAGINE study aims to investigate the interaction between E1 SAMP-activating enzyme and IgG3 in the context of the striated duct. , start_date=1977-03-31, end_date=1992-06-29, principal_investigator=Researcher(name=Kristin Kelly DDS PhD, email=hwilliams@example.org)), site=StudySite(site_code=F, name=Perry, Castillo and Smith and Sons, location=59244 Pierce Throughway Suite 953\n",
       " East Whitneytown, MS 46433, contact=Researcher(name=Alicia Grant MEng MLS(ASCP), email=ashleycopeland@example.org)), enrollment_date=1978-07-23, birth_date=1977-03-01   ),\n",
       " StudyParticipant(participant_id=815930, study=Study(name=ISOASPARAGINE, description=The ISOASPARAGINE study aims to investigate the interaction between E1 SAMP-activating enzyme and IgG3 in the context of the striated duct. , start_date=1977-03-31, end_date=1992-06-29, principal_investigator=Researcher(name=Kristin Kelly DDS PhD, email=hwilliams@example.org)), site=StudySite(site_code=W, name=Murillo-Morgan and Sons, location=84941 Blake Underpass\n",
       " South Raymondchester, IA 87382, contact=Researcher(name=Michele Brown MPH DVM JD, email=matthew09@example.com)), enrollment_date=1991-11-02, birth_date=1974-07-14   ),\n",
       " StudyParticipant(participant_id=921110, study=Study(name=ISOASPARAGINE, description=The ISOASPARAGINE study aims to investigate the interaction between E1 SAMP-activating enzyme and IgG3 in the context of the striated duct. , start_date=1977-03-31, end_date=1992-06-29, principal_investigator=Researcher(name=Kristin Kelly DDS PhD, email=hwilliams@example.org)), site=StudySite(site_code=B, name=Pierce-Hurst Ltd, location=7640 Wu Cape\n",
       " Bellview, VA 11566, contact=Researcher(name=Hayley Gutierrez MBA PharmD, email=blarson@example.org)), enrollment_date=1989-10-19, birth_date=1988-04-01   ),\n",
       " StudyParticipant(participant_id=992718, study=Study(name=ISOASPARAGINE, description=The ISOASPARAGINE study aims to investigate the interaction between E1 SAMP-activating enzyme and IgG3 in the context of the striated duct. , start_date=1977-03-31, end_date=1992-06-29, principal_investigator=Researcher(name=Kristin Kelly DDS PhD, email=hwilliams@example.org)), site=StudySite(site_code=L, name=White-Oliver Inc, location=914 Jones Streets\n",
       " Latoyaside, GU 91429, contact=Researcher(name=Lisa Fields JD DVM, email=imaynard@example.org)), enrollment_date=1988-12-01, birth_date=1981-04-24   ),\n",
       " StudyParticipant(participant_id=440583, study=Study(name=ISOASPARAGINE, description=The ISOASPARAGINE study aims to investigate the interaction between E1 SAMP-activating enzyme and IgG3 in the context of the striated duct. , start_date=1977-03-31, end_date=1992-06-29, principal_investigator=Researcher(name=Kristin Kelly DDS PhD, email=hwilliams@example.org)), site=StudySite(site_code=J, name=Mcfarland, Russell and Nelson Ltd, location=77126 Nelson Extension Apt. 818\n",
       " Port Amanda, MO 81897, contact=Researcher(name=Charles Mccall RN NP, email=michael31@example.net)), enrollment_date=1982-01-16, birth_date=1975-11-08   )]"
      ]
     },
     "execution_count": 7,
     "metadata": {},
     "output_type": "execute_result"
    }
   ],
   "source": [
    "participants = [fake.study_participant(study=study, site=site) for site in study.sites]\n",
    "participants"
   ]
  },
  {
   "cell_type": "code",
   "execution_count": null,
   "id": "38fa9544",
   "metadata": {},
   "outputs": [
    {
     "data": {
      "application/vnd.microsoft.datawrangler.viewer.v0+json": {
       "columns": [
        {
         "name": "index",
         "rawType": "int64",
         "type": "integer"
        },
        {
         "name": "specimen_id",
         "rawType": "object",
         "type": "string"
        },
        {
         "name": "study",
         "rawType": "object",
         "type": "string"
        },
        {
         "name": "site",
         "rawType": "object",
         "type": "string"
        },
        {
         "name": "subject",
         "rawType": "object",
         "type": "string"
        },
        {
         "name": "collection_date",
         "rawType": "object",
         "type": "unknown"
        },
        {
         "name": "type",
         "rawType": "object",
         "type": "string"
        },
        {
         "name": "preservative",
         "rawType": "object",
         "type": "string"
        },
        {
         "name": "volume",
         "rawType": "float64",
         "type": "float"
        }
       ],
       "ref": "4d65eda6-8eb9-43b0-b3d5-d37b30fc69c8",
       "rows": [
        [
         "0",
         "629820",
         "ISOASPARAGINE",
         "F",
         "173472",
         "1986-04-11",
         "Urine",
         "Citrate",
         "67.5053513438559"
        ],
        [
         "1",
         "302781",
         "ISOASPARAGINE",
         "W",
         "815930",
         "1977-08-30",
         "Urine",
         "Citrate",
         "46.702668098196156"
        ],
        [
         "2",
         "847734",
         "ISOASPARAGINE",
         "B",
         "921110",
         "1987-07-03",
         "Blood",
         "Heparin",
         "80.43450944817417"
        ],
        [
         "3",
         "438723",
         "ISOASPARAGINE",
         "L",
         "992718",
         "1981-04-04",
         "Blood",
         "EDTA",
         "76.83609876584073"
        ],
        [
         "4",
         "258360",
         "ISOASPARAGINE",
         "J",
         "440583",
         "1983-10-25",
         "Plasma",
         "EDTA",
         "24.825857944203232"
        ]
       ],
       "shape": {
        "columns": 8,
        "rows": 5
       }
      },
      "text/html": [
       "<div>\n",
       "<style scoped>\n",
       "    .dataframe tbody tr th:only-of-type {\n",
       "        vertical-align: middle;\n",
       "    }\n",
       "\n",
       "    .dataframe tbody tr th {\n",
       "        vertical-align: top;\n",
       "    }\n",
       "\n",
       "    .dataframe thead th {\n",
       "        text-align: right;\n",
       "    }\n",
       "</style>\n",
       "<table border=\"1\" class=\"dataframe\">\n",
       "  <thead>\n",
       "    <tr style=\"text-align: right;\">\n",
       "      <th></th>\n",
       "      <th>specimen_id</th>\n",
       "      <th>study</th>\n",
       "      <th>site</th>\n",
       "      <th>subject</th>\n",
       "      <th>collection_date</th>\n",
       "      <th>type</th>\n",
       "      <th>preservative</th>\n",
       "      <th>volume</th>\n",
       "    </tr>\n",
       "  </thead>\n",
       "  <tbody>\n",
       "    <tr>\n",
       "      <th>0</th>\n",
       "      <td>629820</td>\n",
       "      <td>ISOASPARAGINE</td>\n",
       "      <td>F</td>\n",
       "      <td>173472</td>\n",
       "      <td>1986-04-11</td>\n",
       "      <td>Urine</td>\n",
       "      <td>Citrate</td>\n",
       "      <td>67.505351</td>\n",
       "    </tr>\n",
       "    <tr>\n",
       "      <th>1</th>\n",
       "      <td>302781</td>\n",
       "      <td>ISOASPARAGINE</td>\n",
       "      <td>W</td>\n",
       "      <td>815930</td>\n",
       "      <td>1977-08-30</td>\n",
       "      <td>Urine</td>\n",
       "      <td>Citrate</td>\n",
       "      <td>46.702668</td>\n",
       "    </tr>\n",
       "    <tr>\n",
       "      <th>2</th>\n",
       "      <td>847734</td>\n",
       "      <td>ISOASPARAGINE</td>\n",
       "      <td>B</td>\n",
       "      <td>921110</td>\n",
       "      <td>1987-07-03</td>\n",
       "      <td>Blood</td>\n",
       "      <td>Heparin</td>\n",
       "      <td>80.434509</td>\n",
       "    </tr>\n",
       "    <tr>\n",
       "      <th>3</th>\n",
       "      <td>438723</td>\n",
       "      <td>ISOASPARAGINE</td>\n",
       "      <td>L</td>\n",
       "      <td>992718</td>\n",
       "      <td>1981-04-04</td>\n",
       "      <td>Blood</td>\n",
       "      <td>EDTA</td>\n",
       "      <td>76.836099</td>\n",
       "    </tr>\n",
       "    <tr>\n",
       "      <th>4</th>\n",
       "      <td>258360</td>\n",
       "      <td>ISOASPARAGINE</td>\n",
       "      <td>J</td>\n",
       "      <td>440583</td>\n",
       "      <td>1983-10-25</td>\n",
       "      <td>Plasma</td>\n",
       "      <td>EDTA</td>\n",
       "      <td>24.825858</td>\n",
       "    </tr>\n",
       "  </tbody>\n",
       "</table>\n",
       "</div>"
      ],
      "text/plain": [
       "  specimen_id          study site subject collection_date    type  \\\n",
       "0      629820  ISOASPARAGINE    F  173472      1986-04-11   Urine   \n",
       "1      302781  ISOASPARAGINE    W  815930      1977-08-30   Urine   \n",
       "2      847734  ISOASPARAGINE    B  921110      1987-07-03   Blood   \n",
       "3      438723  ISOASPARAGINE    L  992718      1981-04-04   Blood   \n",
       "4      258360  ISOASPARAGINE    J  440583      1983-10-25  Plasma   \n",
       "\n",
       "  preservative     volume  \n",
       "0      Citrate  67.505351  \n",
       "1      Citrate  46.702668  \n",
       "2      Heparin  80.434509  \n",
       "3         EDTA  76.836099  \n",
       "4         EDTA  24.825858  "
      ]
     },
     "execution_count": 9,
     "metadata": {},
     "output_type": "execute_result"
    }
   ],
   "source": [
    "specimens = [fake.specimen(subject=participant) for participant in participants]\n",
    "specimen_df = pd.DataFrame([specimen.to_dict() for specimen in specimens])\n",
    "specimen_df.head()"
   ]
  }
 ],
 "metadata": {
  "kernelspec": {
   "display_name": "biorepository-data-wrangling2",
   "language": "python",
   "name": "python3"
  },
  "language_info": {
   "codemirror_mode": {
    "name": "ipython",
    "version": 3
   },
   "file_extension": ".py",
   "mimetype": "text/x-python",
   "name": "python",
   "nbconvert_exporter": "python",
   "pygments_lexer": "ipython3",
   "version": "3.12.10"
  }
 },
 "nbformat": 4,
 "nbformat_minor": 5
}
